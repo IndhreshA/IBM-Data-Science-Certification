{
 "cells": [
  {
   "cell_type": "markdown",
   "id": "f685696c-7942-450e-9935-fefec44a514e",
   "metadata": {},
   "source": [
    "# Data Science Tools and Ecosystem"
   ]
  },
  {
   "cell_type": "markdown",
   "id": "cd20a738-c796-49c7-9897-0e37b05ae445",
   "metadata": {},
   "source": [
    "In this notebook, Data Science Tools and Ecosystem are summarized"
   ]
  },
  {
   "cell_type": "markdown",
   "id": "c321b047-d918-4861-a26b-7b56f05ddb61",
   "metadata": {},
   "source": [
    "Some of the popular languages that Data Scientists use are:\n",
    "1. Python\n",
    "2. SQL\n",
    "3. R\n",
    "4. Java"
   ]
  },
  {
   "cell_type": "markdown",
   "id": "05cdcde9-054a-4c37-8431-5e0992844561",
   "metadata": {},
   "source": [
    "Some of the commonly used libraries used by Data Scientists include:\n",
    "1.Pandas\n",
    "2.NumPy\n",
    "3.SciPy"
   ]
  },
  {
   "cell_type": "markdown",
   "id": "455dd143-2bb6-43a9-9142-a4a13223140b",
   "metadata": {},
   "source": [
    "|---|\n",
    "|Data Science Tools|\n",
    "|---|\n",
    "|R-Studio|\n",
    "|---|\n",
    "|Git|\n",
    "|---|\n",
    "|Jupyter Lab|\n"
   ]
  },
  {
   "cell_type": "markdown",
   "id": "c8753eef-780f-482e-af30-a0fb7401d75c",
   "metadata": {},
   "source": [
    "### Below are a few examples of evaluating arithmetic expressions in Python"
   ]
  },
  {
   "cell_type": "markdown",
   "id": "b91f517f-42ac-4fe2-963c-06da1a7e76fe",
   "metadata": {},
   "source": [
    "This a simple arithmetic expression to mutiply then add integers"
   ]
  },
  {
   "cell_type": "code",
   "execution_count": 3,
   "id": "6901eb26-7aa1-4a81-8bf7-4c8229489771",
   "metadata": {},
   "outputs": [
    {
     "data": {
      "text/plain": [
       "17"
      ]
     },
     "execution_count": 3,
     "metadata": {},
     "output_type": "execute_result"
    }
   ],
   "source": [
    "(3*4)+5"
   ]
  },
  {
   "cell_type": "markdown",
   "id": "9982f20e-36bd-400d-8bdc-0c6a408ab45b",
   "metadata": {},
   "source": [
    "This will convert 200 minutes to hours by diving by 60"
   ]
  },
  {
   "cell_type": "code",
   "execution_count": 6,
   "id": "e0d6535d-3958-4930-b0d4-c86f83249171",
   "metadata": {},
   "outputs": [
    {
     "data": {
      "text/plain": [
       "3.3333333333333335"
      ]
     },
     "execution_count": 6,
     "metadata": {},
     "output_type": "execute_result"
    }
   ],
   "source": [
    "200 / 60"
   ]
  },
  {
   "cell_type": "markdown",
   "id": "0f8ba005-bfe4-4d86-8777-555ead4ebe69",
   "metadata": {},
   "source": [
    "**Objectives**\n",
    "* Arithmetic Operations\n",
    "* Programming Languages used by Data Scientists\n",
    "* Development Environments used by Data Scientists\n",
    "* Frameworks commonly used in Data Science\n"
   ]
  },
  {
   "cell_type": "markdown",
   "id": "50f169ba-7ec1-415a-9941-d1266ee00073",
   "metadata": {},
   "source": [
    "##Author\n",
    "Indhresh A"
   ]
  }
 ],
 "metadata": {
  "kernelspec": {
   "display_name": "Python 3 (ipykernel)",
   "language": "python",
   "name": "python3"
  },
  "language_info": {
   "codemirror_mode": {
    "name": "ipython",
    "version": 3
   },
   "file_extension": ".py",
   "mimetype": "text/x-python",
   "name": "python",
   "nbconvert_exporter": "python",
   "pygments_lexer": "ipython3",
   "version": "3.12.0"
  }
 },
 "nbformat": 4,
 "nbformat_minor": 5
}
